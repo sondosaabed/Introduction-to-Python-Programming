{
 "cells": [
  {
   "cell_type": "markdown",
   "metadata": {},
   "source": [
    "In thhis lesson I learn about data types and operators"
   ]
  },
  {
   "cell_type": "markdown",
   "metadata": {},
   "source": [
    "Quiz: Arithmetic Operators\n",
    "\n",
    "Quiz 1: Electricity bills¶\n",
    "\n",
    "My electricity bills for the last three months have been $23, $32 and $64. What is my average monthly electricity bill over the three month period?\n",
    "\n",
    "Write an expression to calculate the mean,\n"
   ]
  },
  {
   "cell_type": "code",
   "execution_count": 1,
   "metadata": {},
   "outputs": [
    {
     "data": {
      "text/plain": [
       "39.666666666666664"
      ]
     },
     "execution_count": 1,
     "metadata": {},
     "output_type": "execute_result"
    }
   ],
   "source": [
    "avg = (23+32+64)/3 \n",
    "avg"
   ]
  },
  {
   "cell_type": "markdown",
   "metadata": {},
   "source": [
    "Quiz 2: Tiles\n",
    "\n",
    "In this quiz you're going to do some calculations for a tiler. Two parts of a floor need tiling. One part is 9 tiles wide by 7 tiles long, the other is 5 tiles wide by 7 tiles long. Tiles come in packages of 6.\n",
    "\n",
    "    How many tiles are needed?\n",
    "    You buy 17 packages of tiles containing 6 tiles each. How many tiles will be left over?"
   ]
  },
  {
   "cell_type": "code",
   "execution_count": 3,
   "metadata": {},
   "outputs": [
    {
     "data": {
      "text/plain": [
       "4"
      ]
     },
     "execution_count": 3,
     "metadata": {},
     "output_type": "execute_result"
    }
   ],
   "source": [
    "tiles = ((9*7)+(5*7))\n",
    "tiles\n",
    "leftover_tiles = (17*6) - (tiles)\n",
    "leftover_tiles"
   ]
  },
  {
   "cell_type": "markdown",
   "metadata": {},
   "source": [
    "Quiz: Variables and Assignment Operators\n",
    "Quiz: Assign and Modify Variables\n",
    "\n",
    "Now it's your turn to work with variables. The comments in this quiz (the lines that begin with #) have instructions for creating and modifying variables. After each comment write a line of code that implements the instruction.\n",
    "\n",
    "Note that this code uses scientific notation to define large numbers. 4.445e8 is equal to 4.445 *10* * 8 which is equal to 444500000.0."
   ]
  },
  {
   "cell_type": "code",
   "execution_count": 7,
   "metadata": {},
   "outputs": [
    {
     "name": "stdout",
     "output_type": "stream",
     "text": [
      "449000000.0\n",
      "471450000.0\n",
      "447877500.0\n",
      "447627500.0\n"
     ]
    }
   ],
   "source": [
    "reservoir_volume = 4.445e8\n",
    "rainfall = 5e6\n",
    "\n",
    "# Use the multiplication assignment operator to decrease \n",
    "# the rainfall variable by 10% to account for runoff\n",
    "rainfall *= 0.9\n",
    "\n",
    "reservoir_volume += rainfall\n",
    "print(reservoir_volume)\n",
    "\n",
    "# Use the multiplication assignment operator to increase \n",
    "# reservoir_volume by 5% to account for stormwater that \n",
    "# flows into the reservoir in the days following the storm\n",
    "reservoir_volume *= 1.05\n",
    "print(reservoir_volume)\n",
    "\n",
    "# Use the multiplication assignment operator to decrease \n",
    "# reservoir_volume by 5% to account for evaporation\n",
    "reservoir_volume *= 0.95\n",
    "print(reservoir_volume)\n",
    "\n",
    "# Use the subtraction assignment operator to subtract \n",
    "# 2.5e5 cubic metres from reservoir_volume to account \n",
    "# for water that's piped to arid regions.\n",
    "\n",
    "reservoir_volume -= 2.5e5\n",
    "print(reservoir_volume)\n"
   ]
  },
  {
   "cell_type": "markdown",
   "metadata": {},
   "source": [
    "Quiz: Booleans, Comparison Operators, and Logical Operators\n",
    "Quiz: Which is denser, Rio or San Francisco?\n",
    "\n",
    "Try comparison operators in this quiz! This code calculates the population densities of Rio de Janeiro and San Francisco.\n",
    "\n",
    "Write code to compare these densities. Is the population of San Francisco more dense than that of Rio de Janeiro?"
   ]
  },
  {
   "cell_type": "code",
   "execution_count": 8,
   "metadata": {},
   "outputs": [
    {
     "name": "stdout",
     "output_type": "stream",
     "text": [
      "False\n"
     ]
    }
   ],
   "source": [
    "sf_population, sf_area = 864816, 231.89\n",
    "rio_population, rio_area = 6453682, 486.5\n",
    "\n",
    "san_francisco_pop_density = sf_population/sf_area\n",
    "rio_de_janeiro_pop_density = rio_population/rio_area\n",
    "\n",
    "# Write code that gives a boolean value True if San Francisco is denser than Rio, and False otherwise\n",
    "comparision_result = san_francisco_pop_density > rio_de_janeiro_pop_density#replace `None` with your code\n",
    "print(comparision_result)"
   ]
  },
  {
   "cell_type": "markdown",
   "metadata": {},
   "source": [
    "Quiz: Fix the Quote¶\n",
    "\n",
    "The line of code in the following quiz will cause a SyntaxError, thanks to the misuse of quotation marks. First run it with Test Run to view the error message. Then resolve the problem so that the quote (from Henry Ford is correctly assigned to the variable ford_quote.\n"
   ]
  },
  {
   "cell_type": "code",
   "execution_count": 9,
   "metadata": {},
   "outputs": [],
   "source": [
    "ford_quote = 'Whether you think you can, or you think you can\\'t--you\\'re right.'"
   ]
  },
  {
   "cell_type": "markdown",
   "metadata": {},
   "source": [
    "Quiz: Write a Server Log Message¶\n",
    "\n",
    "In this programming quiz, you’re going to use what you’ve learned about strings to write a logging message for a server.\n",
    "\n",
    "You’ll be provided with example data for a user, the time of their visit and the site they accessed. You should use the variables provided and the techniques you’ve learned to print a log message like this one (with the username, url, and timestamp replaced with values from the appropriate variables):\n",
    "\n",
    "Yogesh accessed the site http://petshop.com/pets/reptiles/pythons at 16:20.\n",
    "\n",
    "Use the Test Run button to see your results as you work on coding this piece by piece."
   ]
  },
  {
   "cell_type": "code",
   "execution_count": 11,
   "metadata": {},
   "outputs": [
    {
     "name": "stdout",
     "output_type": "stream",
     "text": [
      "Kinari accessed the site http://petshop.com/pets/mammals/cats at 04:50.\n"
     ]
    }
   ],
   "source": [
    "username = \"Kinari\"\n",
    "timestamp = \"04:50\"\n",
    "url = \"http://petshop.com/pets/mammals/cats\"\n",
    "\n",
    "# write a log message using the variables above.\n",
    "# The message should have the same format as this one:\n",
    "# \"Yogesh accessed the site http://petshop.com/pets/reptiles/pythons at 16:20.\"\n",
    "\n",
    "message = username +\" accessed the site \"+ url +\" at \"+timestamp +\".\" #replace \"\" with your code\n",
    "print(message)"
   ]
  },
  {
   "cell_type": "markdown",
   "metadata": {},
   "source": [
    "Quiz: len()\n",
    "\n",
    "Use string concatenation and the len() function to find the length of a certain movie star's actual full name. Store that length in the name_length variable. Don't forget that there are spaces in between the different parts of a name!\n"
   ]
  },
  {
   "cell_type": "code",
   "execution_count": 12,
   "metadata": {},
   "outputs": [
    {
     "name": "stdout",
     "output_type": "stream",
     "text": [
      "True\n"
     ]
    }
   ],
   "source": [
    "given_name = \"William\"\n",
    "middle_names = \"Bradley\"\n",
    "family_name = \"Pitt\"\n",
    "# Todo: calculate how long this name is\n",
    "name_length = len(given_name+\" \"+middle_names+\" \"+family_name) #replace `None` with your code\n",
    "\n",
    "# Now we check to make sure that the name fits within the driving license character limit\n",
    "# Uncomment the code below. You don't need to make changes to the code.\n",
    "\n",
    "driving_license_character_limit = 28\n",
    "print(name_length <= driving_license_character_limit)"
   ]
  },
  {
   "cell_type": "markdown",
   "metadata": {},
   "source": [
    "Quiz: String Methods Coding Practice\n",
    "\n",
    "Below, we have a string variable that contains the first verse of the poem, If by Rudyard Kipling. Remember, \\n is a special sequence of characters that causes a line break (a new line).\n",
    "\n",
    "verse = \"If you can keep your head when all about you\\n  Are losing theirs and blaming it on you,\\nIf you can trust yourself when all men doubt you,\\n  But make allowance for their doubting too;\\nIf you can wait and not be tired by waiting,\\n  Or being lied about, don’t deal in lies,\\nOr being hated, don’t give way to hating,\\n  And yet don’t look too good, nor talk too wise:\"\n",
    "\n",
    "Use the workspace below to answer the following questions about verse and check your output in the quiz at the bottom of this page.\n",
    "\n",
    "    What is the length of the string variable verse?\n",
    "    What is the index of the first occurrence of the word 'and' in verse?\n",
    "    What is the index of the last occurrence of the word 'you' in verse?\n",
    "    What is the count of occurrences of the word 'you' in the verse?\n",
    "\n",
    "You will need to refer to Python's string methods documentation."
   ]
  },
  {
   "cell_type": "code",
   "execution_count": 1,
   "metadata": {},
   "outputs": [
    {
     "name": "stdout",
     "output_type": "stream",
     "text": [
      "If you can keep your head when all about you\n",
      "  Are losing theirs and blaming it on you,\n",
      "If you can trust yourself when all men doubt you,\n",
      "  But make allowance for their doubting too;\n",
      "If you can wait and not be tired by waiting,\n",
      "  Or being lied about, don’t deal in lies,\n",
      "Or being hated, don’t give way to hating,\n",
      "  And yet don’t look too good, nor talk too wise: \n",
      "\n",
      "Verse has a length of 362 characters.\n",
      "The first occurence of the word 'and' occurs at the 65th index.\n",
      "The last occurence of the word 'you' occurs at the 186th index.\n",
      "The word 'you' occurs 8 times in the verse.\n"
     ]
    }
   ],
   "source": [
    "verse = \"If you can keep your head when all about you\\n  Are losing theirs and blaming it on you,\\nIf you can trust yourself when all men doubt you,\\n  But make allowance for their doubting too;\\nIf you can wait and not be tired by waiting,\\n  Or being lied about, don’t deal in lies,\\nOr being hated, don’t give way to hating,\\n  And yet don’t look too good, nor talk too wise:\"\n",
    "print(verse, \"\\n\")\n",
    "\n",
    "print(\"Verse has a length of {} characters.\".format(len(verse)))\n",
    "print(\"The first occurence of the word 'and' occurs at the {}th index.\".format(verse.find('and')))\n",
    "print(\"The last occurence of the word 'you' occurs at the {}th index.\".format(verse.rfind('you')))\n",
    "print(\"The word 'you' occurs {} times in the verse.\".format(verse.count('you')))"
   ]
  }
 ],
 "metadata": {
  "kernelspec": {
   "display_name": "Python 3",
   "language": "python",
   "name": "python3"
  },
  "language_info": {
   "codemirror_mode": {
    "name": "ipython",
    "version": 3
   },
   "file_extension": ".py",
   "mimetype": "text/x-python",
   "name": "python",
   "nbconvert_exporter": "python",
   "pygments_lexer": "ipython3",
   "version": "3.11.0"
  },
  "orig_nbformat": 4
 },
 "nbformat": 4,
 "nbformat_minor": 2
}
