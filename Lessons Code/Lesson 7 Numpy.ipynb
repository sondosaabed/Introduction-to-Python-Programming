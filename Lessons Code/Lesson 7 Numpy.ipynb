{
 "cells": [
  {
   "cell_type": "markdown",
   "metadata": {},
   "source": [
    "in this lesson we practice numpy library."
   ]
  },
  {
   "cell_type": "markdown",
   "metadata": {},
   "source": [
    "There are two ways to create arrays numpy:\n",
    "- either from an exisiting list, etc\n",
    "- or using arrays"
   ]
  },
  {
   "cell_type": "code",
   "execution_count": 7,
   "metadata": {},
   "outputs": [
    {
     "name": "stdout",
     "output_type": "stream",
     "text": [
      "[ 1 23  4  5]\n",
      "(3, 4)\n",
      "12\n"
     ]
    }
   ],
   "source": [
    "import numpy as np\n",
    "# create an array \n",
    "x = np.array([1,23,4,5]) # must contain elements of the same datastypes\n",
    "print(x)\n",
    "\n",
    "# dtype how it is stored in memory\n",
    "x.dtype # how it's stired in memory\n",
    "\n",
    "# shape the sizes of each dimensions and their number\n",
    "x.shape\n",
    "#  # of rows. # of cloumn\n",
    "# up casting from int like float to not lose percision\n",
    "\n",
    "# two dimensional \n",
    "y = np.array([[1,2,3,4],[1,5,6,7],[8,9,0,5]])\n",
    "print(y.shape)\n",
    "print(y.size)"
   ]
  },
  {
   "cell_type": "code",
   "execution_count": 8,
   "metadata": {},
   "outputs": [
    {
     "name": "stdout",
     "output_type": "stream",
     "text": [
      "<U5\n"
     ]
    }
   ],
   "source": [
    "# a string array \n",
    "x = np.array(['Hello', 'world'])\n",
    "print(x.dtype)\n",
    "\n",
    "# to specify the data gtype w ecould use attribute in the function array \n",
    "## , dtype=np.int64"
   ]
  },
  {
   "cell_type": "code",
   "execution_count": 14,
   "metadata": {},
   "outputs": [],
   "source": [
    "# We can save the array into a directory file\n",
    "np.save('my_arr.npy', x)\n",
    "\n",
    "# We can load the saved array \n",
    "y = np.load('my_array.npy')"
   ]
  },
  {
   "cell_type": "code",
   "execution_count": 16,
   "metadata": {},
   "outputs": [
    {
     "name": "stdout",
     "output_type": "stream",
     "text": [
      "[[0. 0. 0. 0.]\n",
      " [0. 0. 0. 0.]\n",
      " [0. 0. 0. 0.]]\n",
      "[[1. 1.]]\n",
      "[['h' 'h' 'h' 'h']\n",
      " ['h' 'h' 'h' 'h']\n",
      " ['h' 'h' 'h' 'h']]\n"
     ]
    }
   ],
   "source": [
    "x = np.zeros((3,4)) # creates an array of shape (3,4) and makes them zeros\n",
    "print(x)\n",
    "\n",
    "y = np.ones((1,2)) # full of onees\n",
    "print(y)\n",
    "\n",
    "# we can use np also to create it and fill it with what we need \n",
    "z = np.full((3,4), 'h')\n",
    "print(z)"
   ]
  },
  {
   "cell_type": "code",
   "execution_count": 17,
   "metadata": {},
   "outputs": [
    {
     "name": "stdout",
     "output_type": "stream",
     "text": [
      "[[1. 0. 0. 0. 0.]\n",
      " [0. 1. 0. 0. 0.]\n",
      " [0. 0. 1. 0. 0.]\n",
      " [0. 0. 0. 1. 0.]\n",
      " [0. 0. 0. 0. 1.]]\n",
      "[[10  0  0  0]\n",
      " [ 0 20  0  0]\n",
      " [ 0  0 30  0]\n",
      " [ 0  0  0 50]]\n"
     ]
    }
   ],
   "source": [
    "## in python there is identity matrix\n",
    "xi = np.eye(5) # 5* 5 identity\n",
    "print(xi)\n",
    "\n",
    "## to create a diagonal matrix\n",
    "xd = np.diag([10,20,30,50])\n",
    "print(xd)\n"
   ]
  },
  {
   "cell_type": "code",
   "execution_count": 19,
   "metadata": {},
   "outputs": [
    {
     "name": "stdout",
     "output_type": "stream",
     "text": [
      "[0 1 2 3 4 5 6 7 8 9]\n"
     ]
    }
   ],
   "source": [
    "# to genrate arrays with specific ragne\n",
    "# args-> start , stop , step\n",
    "m = np.arange(10) # stop arg from 0 to 9\n",
    "print(m)"
   ]
  },
  {
   "cell_type": "code",
   "execution_count": 20,
   "metadata": {},
   "outputs": [
    {
     "name": "stdout",
     "output_type": "stream",
     "text": [
      "[4 5 6 7 8 9]\n"
     ]
    }
   ],
   "source": [
    "m = np.arange(4, 10) # start arg , stop arg (exclusive)\n",
    "print(m)"
   ]
  },
  {
   "cell_type": "code",
   "execution_count": 21,
   "metadata": {},
   "outputs": [
    {
     "name": "stdout",
     "output_type": "stream",
     "text": [
      "[ 4  7 10 13 16 19]\n"
     ]
    }
   ],
   "source": [
    "# step deauslt is 1 step \n",
    "m = np.arange(4, 20, 3) # stop arg from 4 to 20 evenly spaced by 3\n",
    "print(m)"
   ]
  },
  {
   "cell_type": "code",
   "execution_count": 23,
   "metadata": {},
   "outputs": [
    {
     "name": "stdout",
     "output_type": "stream",
     "text": [
      "[ 0.   2.5  5.   7.5 10.  12.5 15.  17.5 20.  22.5]\n"
     ]
    }
   ],
   "source": [
    "# start, stop, n\n",
    "# stop and start enclusive but you can use the end point\n",
    "o = np.linspace(0, 25, 10, endpoint=False)\n",
    "print(o)"
   ]
  },
  {
   "cell_type": "code",
   "execution_count": 26,
   "metadata": {},
   "outputs": [
    {
     "name": "stdout",
     "output_type": "stream",
     "text": [
      "[[ 0  1  2  3  4]\n",
      " [ 5  6  7  8  9]\n",
      " [10 11 12 13 14]\n",
      " [15 16 17 18 19]]\n"
     ]
    }
   ],
   "source": [
    "o = np.arange(20)\n",
    "# to make a reshape \n",
    "o = np.reshape(o, (4,5))\n",
    "print(o)"
   ]
  },
  {
   "cell_type": "code",
   "execution_count": 27,
   "metadata": {},
   "outputs": [
    {
     "name": "stdout",
     "output_type": "stream",
     "text": [
      "[[0.06090164 0.57084473 0.57783146]\n",
      " [0.49044925 0.05250129 0.12140406]\n",
      " [0.41392821 0.21920205 0.55193856]]\n",
      "[[12  4]\n",
      " [ 9  9]\n",
      " [ 6  6]]\n"
     ]
    }
   ],
   "source": [
    "# we need to create a random vlaues in ML like using it to weights to neural networks\n",
    "x = np.random.random((3,3))\n",
    "print(x)\n",
    "\n",
    "# int within spcfic interval \n",
    "x = np.random.randint(4, 15, (3,2))\n",
    "print(x)\n"
   ]
  },
  {
   "cell_type": "code",
   "execution_count": 28,
   "metadata": {},
   "outputs": [
    {
     "name": "stdout",
     "output_type": "stream",
     "text": [
      "[[-0.01758969  0.08054603  0.02942354 ... -0.05127216  0.05191186\n",
      "   0.05056932]\n",
      " [ 0.00254654  0.02339721 -0.19668825 ...  0.04671387  0.18646948\n",
      "   0.02190589]\n",
      " [ 0.03974879 -0.01393804 -0.02494286 ... -0.00441695 -0.02633329\n",
      "   0.0550337 ]\n",
      " ...\n",
      " [-0.00066611  0.00618206 -0.12496383 ...  0.15533552 -0.02452562\n",
      "  -0.09333651]\n",
      " [ 0.1530254   0.01096207  0.08738516 ... -0.05037317 -0.07785659\n",
      "   0.09231604]\n",
      " [ 0.02530726  0.10994013 -0.14762704 ...  0.08794275 -0.166015\n",
      "  -0.06573497]]\n"
     ]
    }
   ],
   "source": [
    "# radnom numbers that satisfies cerin statisic number\n",
    "\n",
    "c = np.random.normal(0,0.1,size= (1000,1000))\n",
    "print(c)"
   ]
  },
  {
   "cell_type": "code",
   "execution_count": 29,
   "metadata": {},
   "outputs": [
    {
     "name": "stdout",
     "output_type": "stream",
     "text": [
      "0.10007745154596909\n"
     ]
    }
   ],
   "source": [
    "print(c.std())"
   ]
  },
  {
   "cell_type": "code",
   "execution_count": 31,
   "metadata": {},
   "outputs": [
    {
     "name": "stdout",
     "output_type": "stream",
     "text": [
      "X has dimensions: (1000, 1000)\n",
      "X is an object of type: <class 'numpy.ndarray'>\n",
      "The elements in X are of type: float64\n",
      "The elements in X have a mean of: 6.113654310871596e-05\n",
      "The maximum value in X is: 0.45437780370013237\n",
      "The minimum value in X is: -0.47114638082979865\n",
      "X has 499885 negative numbers\n",
      "X has 500115 positive numbers\n"
     ]
    }
   ],
   "source": [
    "print('X has dimensions:', c.shape)\n",
    "print('X is an object of type:', type(c))\n",
    "print('The elements in X are of type:', c.dtype)\n",
    "print('The elements in X have a mean of:', c.mean())\n",
    "print('The maximum value in X is:', c.max())\n",
    "print('The minimum value in X is:', c.min())\n",
    "print('X has', (c < 0).sum(), 'negative numbers')\n",
    "print('X has', (c > 0).sum(), 'positive numbers')"
   ]
  },
  {
   "cell_type": "markdown",
   "metadata": {},
   "source": [
    "#### Create an ndarray\n",
    "Using the NumPy functions you learned about on the previous page, create a 4 x 4 ndarray that only contains consecutive even numbers from 2 to 32 (inclusive)."
   ]
  },
  {
   "cell_type": "code",
   "execution_count": 33,
   "metadata": {},
   "outputs": [
    {
     "name": "stdout",
     "output_type": "stream",
     "text": [
      "[[ 2  4  6  8]\n",
      " [10 12 14 16]\n",
      " [18 20 22 24]\n",
      " [26 28 30 32]]\n"
     ]
    }
   ],
   "source": [
    "X = np.arange(2,34,2).reshape(4,4)\n",
    "print(X)"
   ]
  },
  {
   "cell_type": "markdown",
   "metadata": {},
   "source": [
    "### Accessing, Deleting, and Inserting Elements Into ndarrays"
   ]
  },
  {
   "cell_type": "code",
   "execution_count": 34,
   "metadata": {},
   "outputs": [
    {
     "name": "stdout",
     "output_type": "stream",
     "text": [
      "[1 2 3 4 5]\n",
      "4\n",
      "3\n"
     ]
    }
   ],
   "source": [
    "'''Access'''\n",
    "x = np.array([1,2,3,4,5])\n",
    "print(x)\n",
    "\n",
    "# from the begining of the array \n",
    "print(x[3])\n",
    "\n",
    "# from the end of the array \n",
    "print(x[-3])"
   ]
  },
  {
   "cell_type": "code",
   "execution_count": 35,
   "metadata": {},
   "outputs": [
    {
     "name": "stdout",
     "output_type": "stream",
     "text": [
      "20\n"
     ]
    }
   ],
   "source": [
    "'''Modify'''\n",
    "x[3] = 20\n",
    "print(x[3])\n"
   ]
  },
  {
   "cell_type": "code",
   "execution_count": 39,
   "metadata": {},
   "outputs": [
    {
     "data": {
      "text/plain": [
       "'Delete'"
      ]
     },
     "execution_count": 39,
     "metadata": {},
     "output_type": "execute_result"
    }
   ],
   "source": [
    "'''Delete'''\n",
    "# W = np.delete(3)\n",
    "\n",
    "# there is also append \n",
    "# insert a row usinh insert axis=0\n",
    "# insert a coulmn insert axis = 1"
   ]
  },
  {
   "cell_type": "markdown",
   "metadata": {},
   "source": [
    "## Slicing \n",
    "\n",
    "In general you will come across three types of slicing:\n",
    "\n",
    "1. ndarray[start:end]\n",
    "2. ndarray[start:]\n",
    "3. ndarray[:end]"
   ]
  },
  {
   "cell_type": "code",
   "execution_count": null,
   "metadata": {},
   "outputs": [],
   "source": [
    "np.sort()"
   ]
  },
  {
   "cell_type": "markdown",
   "metadata": {},
   "source": [
    "Arithmetic operations and Broadcasting \n",
    "arrays of diffrett shapes ( broadcastable or have the same shape) \n"
   ]
  },
  {
   "cell_type": "markdown",
   "metadata": {},
   "source": [
    "Use Broadcasting to create a 4 x 4 ndarray that has its first column full of `1`s, its second column full of `2`s, its third column full of `3`s, etc.."
   ]
  },
  {
   "cell_type": "code",
   "execution_count": 40,
   "metadata": {},
   "outputs": [
    {
     "name": "stdout",
     "output_type": "stream",
     "text": [
      "[[1. 2. 3. 4.]\n",
      " [1. 2. 3. 4.]\n",
      " [1. 2. 3. 4.]\n",
      " [1. 2. 3. 4.]]\n"
     ]
    }
   ],
   "source": [
    "X = np.ones((4,4)) * np.arange(1,5)\n",
    "print(X)"
   ]
  },
  {
   "cell_type": "markdown",
   "metadata": {},
   "source": [
    " Manipulating ndarrays\n",
    " Create a 5 x 5 ndarray `X` with consecutive integers from 1 to 25 (inclusive). Afterwards use Boolean indexing to pick out only the odd numbers in the array and assign the result to `Y`."
   ]
  },
  {
   "cell_type": "code",
   "execution_count": 43,
   "metadata": {},
   "outputs": [
    {
     "name": "stdout",
     "output_type": "stream",
     "text": [
      "[[ 1  2  3  4  5]\n",
      " [ 6  7  8  9 10]\n",
      " [11 12 13 14 15]\n",
      " [16 17 18 19 20]\n",
      " [21 22 23 24 25]]\n",
      "[ 1  3  5  7  9 11 13 15 17 19 21 23 25]\n"
     ]
    }
   ],
   "source": [
    "# Create a 5 x 5 ndarray with consecutive integers from 1 to 25 (inclusive).\n",
    "X = np.arange(1,26).reshape(5,5)\n",
    "print(X)\n",
    "\n",
    "# Use Boolean indexing to pick out only the odd numbers in the array\n",
    "Y = X[X % 2 != 0]\n",
    "print(Y)"
   ]
  },
  {
   "cell_type": "markdown",
   "metadata": {},
   "source": [
    "Boolean Indexing, Set Operations, and Sorting\n",
    "when we don't havea small range"
   ]
  },
  {
   "cell_type": "code",
   "execution_count": 41,
   "metadata": {},
   "outputs": [
    {
     "name": "stdout",
     "output_type": "stream",
     "text": [
      "\n",
      "x =  [ 1  2  3 20  5]\n",
      "\n",
      "y =  [6 7 2 8 4]\n",
      "\n",
      "The elements that are both in x and y: [2]\n",
      "The elements that are in x that are not in y: [ 1  3  5 20]\n",
      "All the elements of x and y: [ 1  2  3  4  5  6  7  8 20]\n"
     ]
    }
   ],
   "source": [
    "# We create a 5 x 5 ndarray that contains integers from 0 to 24\n",
    "X = np.arange(25).reshape(5, 5)\n",
    "\n",
    "# We use Boolean indexing to assign the elements that are between 10 and 17 the value of -1\n",
    "X[(X > 10) & (X < 17)] = -1\n",
    "\n",
    "# We create a rank 1 ndarray\n",
    "y = np.array([6,7,2,8,4])\n",
    "\n",
    "# We print x\n",
    "print()\n",
    "print('x = ', x)\n",
    "\n",
    "# We print y\n",
    "print()\n",
    "print('y = ', y)\n",
    "\n",
    "# We use set operations to compare x and y:\n",
    "print()\n",
    "print('The elements that are both in x and y:', np.intersect1d(x,y))\n",
    "print('The elements that are in x that are not in y:', np.setdiff1d(x,y))\n",
    "print('All the elements of x and y:',np.union1d(x,y))"
   ]
  },
  {
   "cell_type": "code",
   "execution_count": 42,
   "metadata": {},
   "outputs": [
    {
     "name": "stdout",
     "output_type": "stream",
     "text": [
      "[ 1  2  3  5 20]\n"
     ]
    }
   ],
   "source": [
    "## ndarray.sort(axis=-1, kind=None, order=None)\n",
    "\n",
    "# Returns the sorted unique elements of an array\n",
    "print(np.unique(x))"
   ]
  }
 ],
 "metadata": {
  "kernelspec": {
   "display_name": "Python 3",
   "language": "python",
   "name": "python3"
  },
  "language_info": {
   "codemirror_mode": {
    "name": "ipython",
    "version": 3
   },
   "file_extension": ".py",
   "mimetype": "text/x-python",
   "name": "python",
   "nbconvert_exporter": "python",
   "pygments_lexer": "ipython3",
   "version": "3.11.0"
  },
  "orig_nbformat": 4
 },
 "nbformat": 4,
 "nbformat_minor": 2
}
