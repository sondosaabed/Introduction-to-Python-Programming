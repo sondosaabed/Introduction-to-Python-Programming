{
 "cells": [
  {
   "cell_type": "markdown",
   "metadata": {},
   "source": [
    "In this lesson I learn about Data Structures in Python"
   ]
  },
  {
   "cell_type": "markdown",
   "metadata": {},
   "source": [
    "Quiz: List Indexing¶\n",
    "\n",
    "Use list indexing to determine how many days are in a particular month based on the integer variable month, and store that value in the integer variable num_days. For example, if month is 8, num_days should be set to 31, since the eighth month, August, has 31 days.\n",
    "\n",
    "Remember to account for zero-based indexing!\n"
   ]
  },
  {
   "cell_type": "code",
   "execution_count": 2,
   "metadata": {},
   "outputs": [
    {
     "name": "stdout",
     "output_type": "stream",
     "text": [
      "31\n"
     ]
    }
   ],
   "source": [
    "month = 8\n",
    "days_in_month = [31,28,31,30,31,30,31,31,30,31,30,31]\n",
    "\n",
    "# : replace None with appropriate code\n",
    "# Use list indexing to determine the number of days in `month`\n",
    "num_days = days_in_month[month - 1]\n",
    "print(num_days)"
   ]
  },
  {
   "cell_type": "markdown",
   "metadata": {},
   "source": [
    "Quiz: Slicing Lists\n",
    "\n",
    "Select the three most recent dates from this list using list slicing notation. Hint: negative indexes work in slices!\n"
   ]
  },
  {
   "cell_type": "code",
   "execution_count": 3,
   "metadata": {},
   "outputs": [
    {
     "name": "stdout",
     "output_type": "stream",
     "text": [
      "['November 13, 2012', 'March 20, 2015', 'March 9, 2016']\n"
     ]
    }
   ],
   "source": [
    "eclipse_dates = ['June 21, 2001', 'December 4, 2002', 'November 23, 2003',\n",
    "                 'March 29, 2006', 'August 1, 2008', 'July 22, 2009',\n",
    "                 'July 11, 2010', 'November 13, 2012', 'March 20, 2015',\n",
    "                 'March 9, 2016']          \n",
    "                 \n",
    "# Replace None with appropriate code\n",
    "# Modify this code so it prints the last three elements of the list\n",
    "last_three_dates = eclipse_dates[-3:]\n",
    "print(last_three_dates)"
   ]
  },
  {
   "cell_type": "markdown",
   "metadata": {},
   "source": [
    "Quiz: Define a Dictionary¶\n",
    "\n",
    "Define a dictionary named population that contains this data:\n",
    "Keys \tValues\n",
    "Shanghai \t17.8\n",
    "Istanbul \t13.3\n",
    "Karachi \t13.0\n",
    "Mumbai \t12.5"
   ]
  },
  {
   "cell_type": "code",
   "execution_count": 1,
   "metadata": {},
   "outputs": [
    {
     "name": "stdout",
     "output_type": "stream",
     "text": [
      "{'Shanghai': 17.8, 'Istanbul': 13.3, 'Karachi': 13.0, 'Mumbai': 12.5}\n"
     ]
    }
   ],
   "source": [
    "population = {'Shanghai': 17.8,\n",
    "              'Istanbul': 13.3,\n",
    "              'Karachi': 13.0,\n",
    "              'Mumbai': 12.5}\n",
    "print(population)"
   ]
  },
  {
   "cell_type": "markdown",
   "metadata": {},
   "source": [
    "Quiz: Identify the Problem\n",
    "\n",
    "Run the code below - it should break. Take a look at the error message and try to figure out what the issue is. Then, answer the quiz question below the editor."
   ]
  },
  {
   "cell_type": "code",
   "execution_count": 2,
   "metadata": {},
   "outputs": [
    {
     "ename": "TypeError",
     "evalue": "unhashable type: 'list'",
     "output_type": "error",
     "traceback": [
      "\u001b[1;31m---------------------------------------------------------------------------\u001b[0m",
      "\u001b[1;31mTypeError\u001b[0m                                 Traceback (most recent call last)",
      "Cell \u001b[1;32mIn[2], line 1\u001b[0m\n\u001b[1;32m----> 1\u001b[0m room_numbers \u001b[39m=\u001b[39m {\n\u001b[0;32m      2\u001b[0m     [\u001b[39m'\u001b[39m\u001b[39mFreddie\u001b[39m\u001b[39m'\u001b[39m, \u001b[39m'\u001b[39m\u001b[39mJen\u001b[39m\u001b[39m'\u001b[39m]: \u001b[39m403\u001b[39m,\n\u001b[0;32m      3\u001b[0m     [\u001b[39m'\u001b[39m\u001b[39mNed\u001b[39m\u001b[39m'\u001b[39m, \u001b[39m'\u001b[39m\u001b[39mKeith\u001b[39m\u001b[39m'\u001b[39m]: \u001b[39m391\u001b[39m,\n\u001b[0;32m      4\u001b[0m     [\u001b[39m'\u001b[39m\u001b[39mKristin\u001b[39m\u001b[39m'\u001b[39m, \u001b[39m'\u001b[39m\u001b[39mJazzmyne\u001b[39m\u001b[39m'\u001b[39m]: \u001b[39m411\u001b[39m,\n\u001b[0;32m      5\u001b[0m     [\u001b[39m'\u001b[39m\u001b[39mEugene\u001b[39m\u001b[39m'\u001b[39m, \u001b[39m'\u001b[39m\u001b[39mZach\u001b[39m\u001b[39m'\u001b[39m]: \u001b[39m395\u001b[39m\n\u001b[0;32m      6\u001b[0m }\n",
      "\u001b[1;31mTypeError\u001b[0m: unhashable type: 'list'"
     ]
    }
   ],
   "source": [
    "room_numbers = {\n",
    "    ['Freddie', 'Jen']: 403,\n",
    "    ['Ned', 'Keith']: 391,\n",
    "    ['Kristin', 'Jazzmyne']: 411,\n",
    "    ['Eugene', 'Zach']: 395\n",
    "}"
   ]
  },
  {
   "cell_type": "code",
   "execution_count": 8,
   "metadata": {},
   "outputs": [
    {
     "data": {
      "text/plain": [
       "{('Freddie', 'Jen'): 403,\n",
       " ('Ned', 'Keith'): 391,\n",
       " ('Kristin', 'Jazzmyne'): 411,\n",
       " ('Eugene', 'Zach'): 395}"
      ]
     },
     "execution_count": 8,
     "metadata": {},
     "output_type": "execute_result"
    }
   ],
   "source": [
    "room_numbers = {\n",
    "    ('Freddie', 'Jen'): 403,\n",
    "    ('Ned', 'Keith'): 391,\n",
    "    ('Kristin', 'Jazzmyne'): 411,\n",
    "    ('Eugene', 'Zach'): 395\n",
    "}\n",
    "room_numbers"
   ]
  },
  {
   "cell_type": "markdown",
   "metadata": {},
   "source": [
    "Quiz: Compound Data Structures\n",
    "Quiz: Adding Values to Nested Dictionaries\n",
    "\n",
    "Try your hand at working with nested dictionaries. Add another entry, 'is_noble_gas,' to each dictionary in the `elements` dictionary. After inserting the new entries you should be able to perform these lookups:\n",
    "\n",
    "```python\n",
    ">>> print(elements['hydrogen']['is_noble_gas'])\n",
    "False\n",
    ">>> print(elements['helium']['is_noble_gas'])\n",
    "True\n",
    "```"
   ]
  },
  {
   "cell_type": "code",
   "execution_count": null,
   "metadata": {},
   "outputs": [],
   "source": [
    "elements = {'hydrogen': {'number': 1, 'weight': 1.00794, 'symbol': 'H'},\n",
    "            'helium': {'number': 2, 'weight': 4.002602, 'symbol': 'He'}}\n",
    "# Add an 'is_noble_gas' entry to the hydrogen and helium dictionaries\n",
    "# hint: helium is a noble gas, hydrogen isn't\n",
    "\n",
    "elements['hydrogen']['is_noble_gas'] = False\n",
    "elements['helium']['is_noble_gas'] = True"
   ]
  },
  {
   "cell_type": "markdown",
   "metadata": {},
   "source": [
    "Quiz: Count Unique Words\n",
    "\n",
    "Your task for this quiz is to find the number of unique words in the text. In the code editor below, complete these three steps to get your answer.\n",
    "\n",
    "    Split verse into a list of words. Hint: You can use a string method you learned in the previous lesson.\n",
    "    Convert the list into a data structure that would keep only the unique elements from the list.\n",
    "    Print the length of the container."
   ]
  },
  {
   "cell_type": "code",
   "execution_count": null,
   "metadata": {},
   "outputs": [],
   "source": [
    "verse = \"if you can keep your head when all about you are losing theirs and blaming it on you   if you can trust yourself when all men doubt you     but make allowance for their doubting too   if you can wait and not be tired by waiting      or being lied about  don’t deal in lies   or being hated  don’t give way to hating      and yet don’t look too good  nor talk too wise\"\n",
    "print(verse, '\\n')\n",
    "\n",
    "# TODO: replace None with appropriate code\n",
    "# split verse into list of words\n",
    "verse_list = None\n",
    "print(verse_list, '\\n')\n",
    "\n",
    "# TODO: replace None with appropriate code\n",
    "# convert list to a data structure that stores unique elements\n",
    "verse_set = None\n",
    "print(verse_set, '\\n')\n",
    "\n",
    "# TODO: replace None with appropriate code\n",
    "# find the number of unique words\n",
    "num_unique = None\n",
    "print(num_unique, '\\n')"
   ]
  },
  {
   "cell_type": "markdown",
   "metadata": {},
   "source": [
    "Quiz: Count Unique Words\n",
    "\n",
    "Your task for this quiz is to find the number of unique words in the text. In the code editor below, complete these three steps to get your answer.\n",
    "\n",
    "1. Split `verse` into a list of words. **Hint:** You can use a string method you learned in the previous lesson.\n",
    "1. Convert the list into a data structure that would keep only the unique elements from the list. \n",
    "1. Print the length of the container."
   ]
  },
  {
   "cell_type": "code",
   "execution_count": 9,
   "metadata": {},
   "outputs": [
    {
     "name": "stdout",
     "output_type": "stream",
     "text": [
      "if you can keep your head when all about you are losing theirs and blaming it on you   if you can trust yourself when all men doubt you     but make allowance for their doubting too   if you can wait and not be tired by waiting      or being lied about  don’t deal in lies   or being hated  don’t give way to hating      and yet don’t look too good  nor talk too wise \n",
      "\n",
      "['if', 'you', 'can', 'keep', 'your', 'head', 'when', 'all', 'about', 'you', 'are', 'losing', 'theirs', 'and', 'blaming', 'it', 'on', 'you', 'if', 'you', 'can', 'trust', 'yourself', 'when', 'all', 'men', 'doubt', 'you', 'but', 'make', 'allowance', 'for', 'their', 'doubting', 'too', 'if', 'you', 'can', 'wait', 'and', 'not', 'be', 'tired', 'by', 'waiting', 'or', 'being', 'lied', 'about', 'don’t', 'deal', 'in', 'lies', 'or', 'being', 'hated', 'don’t', 'give', 'way', 'to', 'hating', 'and', 'yet', 'don’t', 'look', 'too', 'good', 'nor', 'talk', 'too', 'wise'] \n",
      "\n",
      "{'doubting', 'on', 'allowance', 'head', 'to', 'yet', 'about', 'give', 'in', 'look', 'it', 'trust', 'don’t', 'if', 'deal', 'for', 'men', 'doubt', 'being', 'hated', 'lied', 'talk', 'good', 'not', 'blaming', 'waiting', 'can', 'way', 'yourself', 'but', 'lies', 'keep', 'all', 'too', 'and', 'nor', 'hating', 'theirs', 'be', 'wise', 'their', 'losing', 'tired', 'when', 'are', 'make', 'or', 'you', 'by', 'your', 'wait'} \n",
      "\n",
      "51\n"
     ]
    }
   ],
   "source": [
    "verse = \"if you can keep your head when all about you are losing theirs and blaming it on you   if you can trust yourself when all men doubt you     but make allowance for their doubting too   if you can wait and not be tired by waiting      or being lied about  don’t deal in lies   or being hated  don’t give way to hating      and yet don’t look too good  nor talk too wise\"\n",
    "print(verse, \"\\n\")\n",
    "\n",
    "## split verse into list of words\n",
    "verse_list = verse.split()\n",
    "print(verse_list, '\\n')\n",
    "\n",
    "## convert list to set to get unique words\n",
    "verse_set = set(verse_list)\n",
    "print(verse_set, '\\n')\n",
    "\n",
    "## print the number of unique words\n",
    "num_unique = len(verse_set)\n",
    "print(num_unique)"
   ]
  },
  {
   "cell_type": "markdown",
   "metadata": {},
   "source": [
    "Quiz: Verse Dictionary\n",
    "\n",
    "In the code cell below, you'll find a dictionary containing the unique words of `verse` stored as keys and the number of times they appear in `verse` stored as values. Use this dictionary to answer the following questions. **Submit these answers in the quiz below this Jupyter Notebook.**\n",
    "\n",
    "Try to answer these using code, rather than inspecting the dictionary manually!\n",
    "\n",
    "1. How many unique words are in *verse_dict*?\n",
    "1. Is the key \"breathe\" in *verse_dict*?\n",
    "1. What is the first element in the list created when *verse_dict* is sorted by keys?\n",
    "**Hint:** Use the appropriate dictionary method to get a list of its keys, and then sort that list. Use this list of keys to answer the next two questions as well.\n",
    "1. Which key (word) has the highest value in *verse_dict*?"
   ]
  },
  {
   "cell_type": "code",
   "execution_count": 10,
   "metadata": {},
   "outputs": [
    {
     "name": "stdout",
     "output_type": "stream",
     "text": [
      "{'if': 3, 'you': 6, 'can': 3, 'keep': 1, 'your': 1, 'head': 1, 'when': 2, 'all': 2, 'about': 2, 'are': 1, 'losing': 1, 'theirs': 1, 'and': 3, 'blaming': 1, 'it': 1, 'on': 1, 'trust': 1, 'yourself': 1, 'men': 1, 'doubt': 1, 'but': 1, 'make': 1, 'allowance': 1, 'for': 1, 'their': 1, 'doubting': 1, 'too': 3, 'wait': 1, 'not': 1, 'be': 1, 'tired': 1, 'by': 1, 'waiting': 1, 'or': 2, 'being': 2, 'lied': 1, \"don't\": 3, 'deal': 1, 'in': 1, 'lies': 1, 'hated': 1, 'give': 1, 'way': 1, 'to': 1, 'hating': 1, 'yet': 1, 'look': 1, 'good': 1, 'nor': 1, 'talk': 1, 'wise': 1} \n",
      "\n",
      "51\n",
      "False\n",
      "about\n",
      "yourself\n"
     ]
    }
   ],
   "source": [
    "verse_dict =  {'if': 3, 'you': 6, 'can': 3, 'keep': 1, 'your': 1, 'head': 1, 'when': 2, 'all': 2, 'about': 2, 'are': 1, 'losing': 1, 'theirs': 1, 'and': 3, 'blaming': 1, 'it': 1, 'on': 1, 'trust': 1, 'yourself': 1, 'men': 1, 'doubt': 1, 'but': 1, 'make': 1, 'allowance': 1, 'for': 1, 'their': 1, 'doubting': 1, 'too': 3, 'wait': 1, 'not': 1, 'be': 1, 'tired': 1, 'by': 1, 'waiting': 1, 'or': 2, 'being': 2, 'lied': 1, 'don\\'t': 3, 'deal': 1, 'in': 1, 'lies': 1, 'hated': 1, 'give': 1, 'way': 1, 'to': 1, 'hating': 1, 'yet': 1, 'look': 1, 'good': 1, 'nor': 1, 'talk': 1, 'wise': 1}\n",
    "print(verse_dict, '\\n')\n",
    "\n",
    "## find number of unique keys in the dictionary\n",
    "num_keys = len(verse_dict)\n",
    "print(num_keys)\n",
    "\n",
    "## find whether 'breathe' is a key in the dictionary\n",
    "contains_breathe = \"breathe\" in verse_dict\n",
    "print(contains_breathe)\n",
    "\n",
    "## create and sort a list of the dictionary's keys\n",
    "sorted_keys = sorted(verse_dict.keys())\n",
    "\n",
    "## get the first element in the sorted list of keys\n",
    "print(sorted_keys[0])\n",
    "\n",
    "## find the element with the highest value in the list of keys\n",
    "print(sorted_keys[-1]) \n"
   ]
  }
 ],
 "metadata": {
  "kernelspec": {
   "display_name": "Python 3",
   "language": "python",
   "name": "python3"
  },
  "language_info": {
   "codemirror_mode": {
    "name": "ipython",
    "version": 3
   },
   "file_extension": ".py",
   "mimetype": "text/x-python",
   "name": "python",
   "nbconvert_exporter": "python",
   "pygments_lexer": "ipython3",
   "version": "3.11.0"
  },
  "orig_nbformat": 4
 },
 "nbformat": 4,
 "nbformat_minor": 2
}
