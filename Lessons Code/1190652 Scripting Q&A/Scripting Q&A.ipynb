{
 "cells": [
  {
   "cell_type": "markdown",
   "metadata": {},
   "source": [
    "### Sondos Aabed 1190652\n",
    "### Week Three of parctical training \n",
    "### Scripting in Python \n"
   ]
  },
  {
   "cell_type": "markdown",
   "metadata": {},
   "source": [
    "Running this script"
   ]
  },
  {
   "cell_type": "code",
   "execution_count": 1,
   "metadata": {},
   "outputs": [
    {
     "name": "stdout",
     "output_type": "stream",
     "text": [
      "\n",
      "Welcome to Python3!\n",
      "\n",
      "             ____\n",
      "            / . .\\\n",
      "            \\  ---<\n",
      "             \\  /\n",
      "   __________/ /\n",
      "-=:___________/\n",
      "\n",
      "<3, Juno\n",
      "\n"
     ]
    }
   ],
   "source": [
    "how_many_snakes = 1\n",
    "snake_string = \"\"\"\n",
    "Welcome to Python3!\n",
    "\n",
    "             ____\n",
    "            / . .\\\\\n",
    "            \\  ---<\n",
    "             \\  /\n",
    "   __________/ /\n",
    "-=:___________/\n",
    "\n",
    "<3, Juno\n",
    "\"\"\"\n",
    "\n",
    "\n",
    "print(snake_string * how_many_snakes)"
   ]
  },
  {
   "cell_type": "markdown",
   "metadata": {},
   "source": [
    "#### Scripting with Raw Input"
   ]
  },
  {
   "cell_type": "code",
   "execution_count": 5,
   "metadata": {},
   "outputs": [
    {
     "name": "stdout",
     "output_type": "stream",
     "text": [
      "Hello Sondos\n",
      "You entered  15\n",
      "57\n"
     ]
    }
   ],
   "source": [
    "name = input('Hello user input your name')\n",
    "print(\"Hello\",name.title())\n",
    "\n",
    "num = int(input('Enter a number:'))\n",
    "print(\"You entered \", num)\n",
    "\n",
    "x = eval('num + 42')\n",
    "print(x)"
   ]
  },
  {
   "cell_type": "markdown",
   "metadata": {},
   "source": [
    "#### Quiz: Generate Messages\n",
    "Imagine you're a teacher who needs to send a message to each of your students reminding them of their missing assignments and grade in the class. You have each of their names, number of missing assignments, and grades on a spreadsheet and just have to insert them into placeholders in this message you came up with:\n",
    "    Hi [insert student name],\n",
    "    \n",
    "    This is a reminder that you have [insert number of missing assignments] assignments left to submit before you can graduate. Your current grade is [insert current grade] and can increase to [insert potential grade] if you submit all assignments before the due date.\n",
    "\n",
    "You can just copy and paste this message to each student and manually insert the appropriate values each time, but instead you're going to write a program that does this for you.\n",
    "\n",
    "Write a script that does the following:\n",
    "\n",
    "    Ask for user input 3 times. Once for a list of names, once for a list of missing assignment counts, and once for a list of grades. Use this input to create lists for names, assignments, and grades.\n",
    "    Use a loop to print the message for each student with the correct values. The potential grade is simply the current grade added to two times the number of missing assignments."
   ]
  },
  {
   "cell_type": "code",
   "execution_count": 14,
   "metadata": {},
   "outputs": [
    {
     "name": "stdout",
     "output_type": "stream",
     "text": [
      "['Sondos', 'Aabed']\n",
      "[['60', '80']]\n",
      "['2', '3']\n",
      "Hi Sondos,\n",
      "\n",
      "This is a reminder that you have 2 assignments left to submit before you can graduate. You're current grade is ['60', '80'] and can increase to ['60', '80'] if you submit all assignments before the due date.\n",
      "\n",
      "\n"
     ]
    }
   ],
   "source": [
    "names =  input(\"Enter names seprated by comas\").title().split(\",\")\n",
    "assignments =  input(\"Enter assignments seprated by comas\").split(\",\")\n",
    "grades =   input(\"Enter grades seprated by comas\").split(\",\")\n",
    "\n",
    "print(names)\n",
    "print(grades)\n",
    "print(assignments)\n",
    "\n",
    "## message string to be used for each student\n",
    "message = \"Hi {},\\n\\nThis is a reminder that you have {} assignments left to \\\n",
    "submit before you can graduate. You're current grade is {} and can increase \\\n",
    "to {} if you submit all assignments before the due date.\\n\\n\"\n",
    "\n",
    "## write a for loop that iterates through each set of names, assignments, and grades to print each student's message\n",
    "for name, assignment, grade in zip(names,assignments,grades):\n",
    "    print(message.format(name,assignment,grade,int(grade) + int(assignment)*2))"
   ]
  },
  {
   "cell_type": "markdown",
   "metadata": {},
   "source": [
    "#### Errors and Exceptions "
   ]
  },
  {
   "cell_type": "markdown",
   "metadata": {},
   "source": [
    "Error Handleing using try and catch"
   ]
  },
  {
   "cell_type": "code",
   "execution_count": 17,
   "metadata": {},
   "outputs": [
    {
     "name": "stdout",
     "output_type": "stream",
     "text": [
      "Not a valid number\n",
      "Tried\n",
      "Tried\n"
     ]
    }
   ],
   "source": [
    "# to keep inputing it\n",
    "while True:\n",
    "    try:\n",
    "        x = int(input('Enter a number'))\n",
    "        break\n",
    "    except ValueError:\n",
    "        print('Not a valid number')\n",
    "    except KeyboardInterrupt:\n",
    "        # when exits without entering a number\n",
    "        print('No input taken')\n",
    "    finally:\n",
    "        # under any condition it runs\n",
    "        print(\"Tried\")"
   ]
  },
  {
   "cell_type": "markdown",
   "metadata": {},
   "source": [
    "#### Practice: Handling Input Errors\n",
    "Handling Input Errors\n",
    "\n",
    "The party_planner function below takes as input a number of party people and cookies and figures out how many cookies each person gets at the party, assuming equitable distribution of cookies. Then, it returns that number along with how many cookies will be left over.\n",
    "\n",
    "Right now, calling the function with an input of 0 people will cause an error, because it creates a ZeroDivisionError exception. Edit the party_planner function to handle this invalid input. If it runs into this exception, it should print a warning message to the user and request they input a different number of people.\n",
    "\n",
    "After you've edited the function, try running the file again and make sure it does what you intended. Try it with several different input values, including 0 and other values for the number of people.\n"
   ]
  },
  {
   "cell_type": "code",
   "execution_count": 18,
   "metadata": {},
   "outputs": [
    {
     "name": "stdout",
     "output_type": "stream",
     "text": [
      "The is a division by zero\n",
      "\n",
      "Let's party! We'll have 4 people attending, they'll each get to eat 1 cookies, and we'll have 0 left over.\n"
     ]
    }
   ],
   "source": [
    "def party_planner(cookies, people):\n",
    "    leftovers = None\n",
    "    num_each = None\n",
    "    try:\n",
    "        num_each = cookies // people\n",
    "        leftovers = cookies % people    \n",
    "    except ZeroDivisionError:\n",
    "        print(\"The is a division by zero\")\n",
    "    return(num_each, leftovers)\n",
    "\n",
    "lets_party = 'y'\n",
    "while lets_party == 'y':\n",
    "\n",
    "    cookies = int(input(\"How many cookies are you baking? \"))\n",
    "    people = int(input(\"How many people are attending? \"))\n",
    "\n",
    "    cookies_each, leftovers = party_planner(cookies, people)\n",
    "\n",
    "    if cookies_each:  # if cookies_each is not None\n",
    "        message = \"\\nLet's party! We'll have {} people attending, they'll each get to eat {} cookies, and we'll have {} left over.\"\n",
    "        print(message.format(people, cookies_each, leftovers))\n",
    "\n",
    "    lets_party = input(\"\\nWould you like to party more? (y or n) \")"
   ]
  },
  {
   "cell_type": "markdown",
   "metadata": {},
   "source": [
    "#### Accessing the error messsage"
   ]
  },
  {
   "cell_type": "code",
   "execution_count": 22,
   "metadata": {},
   "outputs": [
    {
     "name": "stdout",
     "output_type": "stream",
     "text": [
      "ZeroDivisionError occurred: division by zero\n"
     ]
    }
   ],
   "source": [
    "try:\n",
    "    print(\"Tried\", 5/0)\n",
    "except Exception as e:\n",
    "    print(\"ZeroDivisionError occurred: {}\".format(e))"
   ]
  },
  {
   "cell_type": "markdown",
   "metadata": {},
   "source": [
    "#### Reading and Writing Files"
   ]
  },
  {
   "cell_type": "code",
   "execution_count": 25,
   "metadata": {},
   "outputs": [
    {
     "name": "stdout",
     "output_type": "stream",
     "text": [
      "My name is sondos\n",
      "I study computeer Sceinece \n",
      "Life is fun\n",
      "sometimes sucks\n",
      "\n"
     ]
    }
   ],
   "source": [
    "# I want to read from the file\n",
    "file = open(\"File Sample.txt\")\n",
    "\n",
    "file_data = file.read()\n",
    "# must close it so you don;t get error there is a limit\n",
    "file.close()\n",
    "\n",
    "print(file_data)\n",
    "\n",
    "# to change the file should open it in wrinting mode \n",
    "file1 = open(\"new file.txt\",'w') # it will create a new file it doenst exist\n",
    "file1.write(\"Hey this is a new file\")\n",
    "file1.close()"
   ]
  },
  {
   "cell_type": "markdown",
   "metadata": {},
   "source": [
    "with"
   ]
  },
  {
   "cell_type": "code",
   "execution_count": null,
   "metadata": {},
   "outputs": [],
   "source": [
    "with open('my_file.txt', 'r') as f:\n",
    "    file_data = f.read()"
   ]
  },
  {
   "cell_type": "markdown",
   "metadata": {},
   "source": [
    "#### Quiz: Reading and Writing Files\n",
    "Calling the read Method with an Integer\n",
    "\n",
    "In the code you saw earlier, the call to f.read() had no arguments passed to it. This defaults to reading all the remainder of the file from its current position - the whole file. If you pass the read method an integer argument, it will read up to that number of characters, output all of them, and keep the 'window' at that position ready to read on.\n",
    "\n",
    "Let's see this in an example that uses the following file, camelot.txt:\n",
    "\n",
    "We're the knights of the round table\n",
    "We dance whenever we're able\n",
    "\n",
    "Here's a script that reads in the file a little at a time by passing an integer argument to .read()."
   ]
  },
  {
   "cell_type": "code",
   "execution_count": 26,
   "metadata": {},
   "outputs": [
    {
     "name": "stdout",
     "output_type": "stream",
     "text": [
      "We\n",
      "'re the \n",
      "knights of the round table\n",
      "We dance whenever we're able\n"
     ]
    }
   ],
   "source": [
    "with open(\"camelot.txt\") as song:\n",
    "    print(song.read(2))\n",
    "    print(song.read(8))\n",
    "    print(song.read())"
   ]
  },
  {
   "cell_type": "markdown",
   "metadata": {},
   "source": [
    "Reading Line by Line\n",
    "\n",
    "\\ns in blocks of text are newline characters. The newline character marks the end of a line, and tells a program (such as a text editor) to go down to the next line. However, looking at the stream of characters in the file, \\n is just another character.\n",
    "\n",
    "Fortunately, Python knows that these are special characters and you can ask it to read one line at a time. Let's try it!"
   ]
  },
  {
   "cell_type": "code",
   "execution_count": 30,
   "metadata": {},
   "outputs": [
    {
     "name": "stdout",
     "output_type": "stream",
     "text": [
      "We're the knights of the round table\n",
      "\n",
      "We dance whenever we're able\n"
     ]
    }
   ],
   "source": [
    "with open(\"camelot.txt\") as song:\n",
    "    for song.readline in song:\n",
    "        print(song.readline)"
   ]
  },
  {
   "cell_type": "code",
   "execution_count": 29,
   "metadata": {},
   "outputs": [
    {
     "name": "stdout",
     "output_type": "stream",
     "text": [
      "[\"We're the knights of the round table\", \"We dance whenever we're able\"]\n"
     ]
    }
   ],
   "source": [
    "camelot_lines = []\n",
    "with open(\"camelot.txt\") as f:\n",
    "    for line in f:\n",
    "        camelot_lines.append(line.strip())\n",
    "\n",
    "print(camelot_lines)"
   ]
  },
  {
   "cell_type": "code",
   "execution_count": 31,
   "metadata": {},
   "outputs": [
    {
     "name": "stdout",
     "output_type": "stream",
     "text": [
      "[\"We're the knights of the round table\", \"We dance whenever we're able\"]\n"
     ]
    }
   ],
   "source": [
    "camelot_lines = []\n",
    "with open(\"camelot.txt\") as f:\n",
    "    for line in f:\n",
    "        camelot_lines.append(line.strip())\n",
    "\n",
    "print(camelot_lines)"
   ]
  },
  {
   "cell_type": "markdown",
   "metadata": {},
   "source": [
    "#### Quiz: Flying Circus Cast List\n",
    "\n",
    "You're going to create a list of the actors who appeared in the television programme Monty Python's Flying Circus.\n",
    "\n",
    "Write a function called create_cast_list that takes a filename as input and returns a list of actors' names. It will be run on the file flying_circus_cast.txt (this information was collected from imdb.com). Each line of that file consists of an actor's name, a comma, and then some (messy) information about roles they played in the programme. You'll need to extract only the name and add it to a list. You might use the .split() method to process each line.\n",
    "\n",
    "A note about the autograded quizzes. You can add new code cells to experiment and test your code. To run the code cell, press the Run button on the top bar. When you are ready to submit your code, remove all code cells you added before pressing the \"TEST CODE\" button."
   ]
  },
  {
   "cell_type": "code",
   "execution_count": 34,
   "metadata": {},
   "outputs": [
    {
     "name": "stdout",
     "output_type": "stream",
     "text": [
      "['A note about the autograded quizzes. You can add new code cells to experiment and test your code. To run the code cell, press the Run button on the top bar. When you are ready to submit your code, remove all code cells you added before pressing the \"TEST CODE\" button.']\n"
     ]
    }
   ],
   "source": [
    "def create_cast_list(filename):\n",
    "    cast_list = []\n",
    "    with open(filename) as file:\n",
    "        for line in file:\n",
    "            cast_list.append(line.split(\",\"[0]))\n",
    "    return cast_list\n",
    "cast_list = create_cast_list('flying_circus_cast.txt')\n",
    "print(cast_list)"
   ]
  },
  {
   "cell_type": "markdown",
   "metadata": {},
   "source": [
    "#### Quiz: Practice Debugging\n",
    "\n",
    "In the workspace at the bottom of the page, there is a piece of code in the user_input_numlist.py Python file. The code prompts the user to enter 10 two-digit numbers. It should then find and print the sum of all of the even numbers among those that were entered.\n",
    "\n",
    "But there is a bug in the code! When I input a number, I get the following TypeError. Use the programming environment provided below with a Terminal and code editor to debug the code."
   ]
  },
  {
   "cell_type": "code",
   "execution_count": 40,
   "metadata": {},
   "outputs": [
    {
     "name": "stdout",
     "output_type": "stream",
     "text": [
      "user_list: [10, 23, 23, 24, 535, 64, 656, 75, 45, 65]\n",
      "The sum of the even numbers in user_list is: 754.\n"
     ]
    }
   ],
   "source": [
    "# initiate empty list to hold user input and sum value of zero\n",
    "user_list = []\n",
    "list_sum = 0\n",
    "\n",
    "# seek user input for ten numbers \n",
    "for i in range(10):\n",
    "    userInput = int(input(\"Enter any 2-digit number: \"))\n",
    "    \n",
    "# check to see if number is even and if yes, add to list_sum\n",
    "# print incorrect value warning  when ValueError exception occurs\n",
    "    try:\n",
    "        number = userInput\n",
    "        user_list.append(number)\n",
    "        if number % 2 == 0:\n",
    "            list_sum += number\n",
    "    except ValueError:\n",
    "        print(\"Incorrect value. That's not an int!\")\n",
    "\n",
    "print(\"user_list: {}\".format(user_list))\n",
    "print(\"The sum of the even numbers in user_list is: {}.\".format(list_sum))"
   ]
  },
  {
   "cell_type": "markdown",
   "metadata": {},
   "source": [
    "#### Import Local Scripts\n",
    "\n",
    "import other_script as os\n",
    "os.num"
   ]
  },
  {
   "cell_type": "code",
   "execution_count": 42,
   "metadata": {},
   "outputs": [
    {
     "name": "stdout",
     "output_type": "stream",
     "text": [
      "Testing mean function\n",
      "Testing add_five function\n",
      "All tests passed!\n"
     ]
    }
   ],
   "source": [
    "def mean(num_list):\n",
    "    return sum(num_list) / len(num_list)\n",
    "\n",
    "def add_five(num_list):\n",
    "    return [n + 5 for n in num_list]\n",
    "\n",
    "# good practice to add a main() and then use the main module\n",
    "def main():\n",
    "    print(\"Testing mean function\")\n",
    "    n_list = [34, 44, 23, 46, 12, 24]\n",
    "    correct_mean = 30.5\n",
    "    assert(mean(n_list) == correct_mean)\n",
    "\n",
    "    print(\"Testing add_five function\")\n",
    "    correct_list = [39, 49, 28, 51, 17, 29]\n",
    "    assert(add_five(n_list) == correct_list)\n",
    "\n",
    "    print(\"All tests passed!\")\n",
    "\n",
    "if __name__ == '__main__':\n",
    "    main()"
   ]
  },
  {
   "cell_type": "code",
   "execution_count": 45,
   "metadata": {},
   "outputs": [
    {
     "name": "stdout",
     "output_type": "stream",
     "text": [
      "24\n",
      "1691786376.858899\n"
     ]
    }
   ],
   "source": [
    "import math\n",
    "import time\n",
    "print(math.factorial(4))\n",
    "print(time.time())"
   ]
  },
  {
   "cell_type": "markdown",
   "metadata": {},
   "source": [
    "#### Quiz: Compute an Exponent\n",
    "\n",
    "It's your turn to import and use the math module. Use the math module to calculate e to the power of 3. And assign the answer to result.\n",
    "\n",
    "Refer to the math module's documentation to find the function you need!\n"
   ]
  },
  {
   "cell_type": "code",
   "execution_count": 53,
   "metadata": {},
   "outputs": [
    {
     "name": "stdout",
     "output_type": "stream",
     "text": [
      "20.085536923187668\n"
     ]
    }
   ],
   "source": [
    "import math as m\n",
    "result = m.pow(m.e,3)\n",
    "result = m.exp(3)\n",
    "\n",
    "print(result)"
   ]
  },
  {
   "cell_type": "markdown",
   "metadata": {},
   "source": [
    "#### Quiz: Password Generator\n",
    "\n",
    "Write a function called generate_password that selects three random words from the list of words word_list and concatenates them into a single string. Your function should not accept any arguments and should reference the global variable word_list to build the password. To help with this, check out the choice function associated with the random module in the Standard Library.\n"
   ]
  },
  {
   "cell_type": "code",
   "execution_count": 52,
   "metadata": {},
   "outputs": [
    {
     "name": "stdout",
     "output_type": "stream",
     "text": [
      "onceverybook\n"
     ]
    }
   ],
   "source": [
    "import random as r\n",
    "\n",
    "word_file = \"words.txt\"\n",
    "word_list = []\n",
    "\n",
    "# We fill up the word_list from the `words.txt` file\n",
    "with open(word_file,'r') as words:\n",
    "    for line in words:\n",
    "        # remove white space and make everything lowercase\n",
    "        word = line.strip().lower()\n",
    "        # don't include words that are too long or too short\n",
    "        if 3 < len(word) < 8:\n",
    "            word_list.append(word)\n",
    "\n",
    "def generate_password():\n",
    "    return r.choice(word_list) + r.choice(word_list) + r.choice(word_list)\n",
    "\n",
    "## alternative\n",
    "def generate_password():\n",
    "    return ''.join(r.sample(word_list, 3))\n",
    "\n",
    "# Now we test the function\n",
    "password = generate_password()\n",
    "print(password)"
   ]
  },
  {
   "cell_type": "markdown",
   "metadata": {},
   "source": [
    "Which module can tell you the current time and date?\n",
    "datetime\n",
    "\n",
    "Which Module? 2\n",
    "\n",
    "Which module has a method for changing the current working directory?\n",
    "os.path\n",
    "\n",
    "Which module can read data from a comma separated values (.csv) file into Python dictionaries for each row?\n",
    "csv\n",
    "\n",
    "Which module can help extract all of the files from a zip file?\n",
    "zipfile\n",
    "\n",
    "Which module can say how long your code took to run?\n",
    "time"
   ]
  },
  {
   "cell_type": "markdown",
   "metadata": {},
   "source": [
    "package.submodel"
   ]
  },
  {
   "cell_type": "markdown",
   "metadata": {},
   "source": [
    "Anaconda used for datasceonece"
   ]
  },
  {
   "cell_type": "markdown",
   "metadata": {},
   "source": [
    "Experimenting with an Interpreter"
   ]
  },
  {
   "cell_type": "markdown",
   "metadata": {},
   "source": [
    "#### Practice Question\n",
    "\n",
    "For the following practice question you will need to write code in Python in the workspace below. This will allow you to practice the concepts discussed in the Scripting lesson, such as reading and writing files. You will see some older concepts too, but again, we have them there to review and reinforce your understanding of those concepts.\n",
    "\n",
    "Question: Create a function that opens the flowers.txt, reads every line in it, and saves it as a dictionary. The main (separate) function should take user input (user's first name and last name) and parse the user input to identify the first letter of the first name. It should then use it to print the flower name with the same first letter (from dictionary created in the first function).\n",
    "\n",
    "Sample Output: >>> Enter your First [space] Last name only: Bill Newman >>> Unique flower name with the first letter: Bellflower "
   ]
  },
  {
   "cell_type": "code",
   "execution_count": null,
   "metadata": {},
   "outputs": [],
   "source": []
  }
 ],
 "metadata": {
  "kernelspec": {
   "display_name": "Python 3",
   "language": "python",
   "name": "python3"
  },
  "language_info": {
   "codemirror_mode": {
    "name": "ipython",
    "version": 3
   },
   "file_extension": ".py",
   "mimetype": "text/x-python",
   "name": "python",
   "nbconvert_exporter": "python",
   "pygments_lexer": "ipython3",
   "version": "3.11.0"
  },
  "orig_nbformat": 4
 },
 "nbformat": 4,
 "nbformat_minor": 2
}
