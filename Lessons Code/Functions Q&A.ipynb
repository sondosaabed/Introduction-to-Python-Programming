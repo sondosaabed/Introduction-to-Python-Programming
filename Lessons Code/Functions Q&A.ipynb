{
 "cells": [
  {
   "cell_type": "markdown",
   "metadata": {},
   "source": [
    "### Sondos Aabed 1190652\n",
    "### Week Two of parctical training \n",
    "### Functions in Python \n"
   ]
  },
  {
   "cell_type": "markdown",
   "metadata": {},
   "source": [
    "#### Quiz: Population Density Function\n",
    "\n",
    "Write a function named population_density that takes two arguments, population and land_area, and returns a population density calculated from those values.\n"
   ]
  },
  {
   "cell_type": "code",
   "execution_count": 1,
   "metadata": {},
   "outputs": [
    {
     "name": "stdout",
     "output_type": "stream",
     "text": [
      "0.5\n"
     ]
    }
   ],
   "source": [
    "def population_density(population, land_area):\n",
    "    return population/land_area\n",
    "print(population_density(10,20))"
   ]
  },
  {
   "cell_type": "markdown",
   "metadata": {},
   "source": [
    "#### Quiz: readable_timedelta\n",
    "\n",
    "Write a function named readable_timedelta. The function should take one argument, an integer days, and return a string that says how many weeks and days that is. For example, calling the function and printing the result like this:\n",
    "\n",
    "print(readable_timedelta(10))\n",
    "\n",
    "should output the following:\n",
    "\n",
    "1 week(s) and 3 day(s).\n",
    "\n"
   ]
  },
  {
   "cell_type": "code",
   "execution_count": 5,
   "metadata": {},
   "outputs": [
    {
     "name": "stdout",
     "output_type": "stream",
     "text": [
      "0 week(s) and 1 day(s)\n"
     ]
    }
   ],
   "source": [
    "def readable_timedelta(days):\n",
    "    return \"{} week(s) and {} day(s)\".format(int(days/7),days%7)\n",
    "\n",
    "print(readable_timedelta(1))"
   ]
  },
  {
   "cell_type": "markdown",
   "metadata": {},
   "source": [
    "#### Quiz: Lambda with Map\n",
    "\n",
    "`map()` is a higher-order built-in function that takes a function and iterable as inputs, and returns an iterator that applies the function to each element of the iterable. The code below uses `map()` to find the mean of each list in `numbers` to create the list `averages`. Give it a test run to see what happens.\n",
    "\n",
    "Rewrite this code to be more concise by replacing the `mean` function with a lambda expression defined within the call to `map()`."
   ]
  },
  {
   "cell_type": "code",
   "execution_count": 8,
   "metadata": {},
   "outputs": [
    {
     "name": "stdout",
     "output_type": "stream",
     "text": [
      "[57.0, 58.2, 50.6, 27.2]\n"
     ]
    }
   ],
   "source": [
    "numbers = [\n",
    "              [34, 63, 88, 71, 29],\n",
    "              [90, 78, 51, 27, 45],\n",
    "              [63, 37, 85, 46, 22],\n",
    "              [51, 22, 34, 11, 18]\n",
    "           ]\n",
    "\n",
    "def mean(num_list):\n",
    "    return sum(num_list) / len(num_list)\n",
    "\n",
    "averages = list(map(lambda num_list: sum(num_list)/len(num_list), numbers))\n",
    "print(averages)\n"
   ]
  },
  {
   "cell_type": "markdown",
   "metadata": {},
   "source": [
    "#### Quiz: Lambda with Filter\n",
    "\n",
    "`filter()` is a higher-order built-in function that takes a function and iterable as inputs and returns an iterator with the elements from the iterable for which the function returns True. The code below uses `filter()` to get the names in `cities` that are fewer than 10 characters long to create the list `short_cities`. Give it a test run to see what happens.\n",
    "\n",
    "Rewrite this code to be more concise by replacing the `is_short` function with a lambda expression defined within the call to `filter()`."
   ]
  },
  {
   "cell_type": "code",
   "execution_count": null,
   "metadata": {},
   "outputs": [],
   "source": [
    "cities = [\"New York City\", \"Los Angeles\", \"Chicago\", \"Mountain View\", \"Denver\", \"Boston\"]\n",
    "\n",
    "def is_short(name):\n",
    "    return len(name) < 10\n",
    "\n",
    "short_cities = list(filter(is_short, cities))"
   ]
  }
 ],
 "metadata": {
  "kernelspec": {
   "display_name": "Python 3",
   "language": "python",
   "name": "python3"
  },
  "language_info": {
   "codemirror_mode": {
    "name": "ipython",
    "version": 3
   },
   "file_extension": ".py",
   "mimetype": "text/x-python",
   "name": "python",
   "nbconvert_exporter": "python",
   "pygments_lexer": "ipython3",
   "version": "3.11.0"
  },
  "orig_nbformat": 4
 },
 "nbformat": 4,
 "nbformat_minor": 2
}
